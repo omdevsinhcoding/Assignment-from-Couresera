{
 "cells": [
  {
   "cell_type": "markdown",
   "id": "95a5ac46-f1da-4162-ba76-c1e94e7eac3e",
   "metadata": {},
   "source": [
    "<code>Ex - 1 is create jupyter notbook</code>"
   ]
  },
  {
   "cell_type": "markdown",
   "id": "a9932f10-d223-4976-aa68-31685379e9b8",
   "metadata": {},
   "source": [
    "<code>Ex -2 is Create markdown cell with title of the notebook </code>"
   ]
  },
  {
   "cell_type": "code",
   "execution_count": null,
   "id": "74848baf-c85b-4bd6-ad6b-fa6482d52cb2",
   "metadata": {},
   "outputs": [],
   "source": [
    "# Code and syntax for markdown cell named Data Science Tools and Ecosystem is given below"
   ]
  },
  {
   "cell_type": "markdown",
   "id": "08e04efd-0ba8-40cf-bed3-4d4f27244537",
   "metadata": {},
   "source": [
    "# Data Science Tools and Ecosystem"
   ]
  },
  {
   "cell_type": "markdown",
   "id": "f0b985fc-b6ca-4f84-b48b-6db39fc5214e",
   "metadata": {},
   "source": [
    "<code>Ex-3 - Create a markdown cell for an introduction </code>"
   ]
  },
  {
   "cell_type": "markdown",
   "id": "8d7054bd-5820-4dfa-876a-02f085617e57",
   "metadata": {},
   "source": [
    "<code>Sentance is - \"In this notebook, Data Science Tools and Ecosystem are summarized.\"</code>"
   ]
  },
  {
   "cell_type": "code",
   "execution_count": null,
   "id": "54cf32b8-839c-420f-baae-5165a2fbc884",
   "metadata": {},
   "outputs": [],
   "source": [
    "# Code and syntax for markdown cell for an introduction is given below"
   ]
  },
  {
   "cell_type": "markdown",
   "id": "de3df28e-6d98-44c9-a166-69b073e4bc32",
   "metadata": {},
   "source": [
    "**In this notebook, Data Science Tools and Ecosystem are summarized.**"
   ]
  },
  {
   "cell_type": "markdown",
   "id": "3270bd5b-35d6-469c-bb3f-d3f81e9fcc59",
   "metadata": {},
   "source": [
    "<code>Ex-4 - Create a markdown cell to list data science languages</code>"
   ]
  },
  {
   "cell_type": "markdown",
   "id": "f69554e6-227d-4836-84c6-ceca2504dce5",
   "metadata": {},
   "source": [
    "<code> Given Started line is - \"Some of the popular languages that Data Scientists use are:\" </code>"
   ]
  },
  {
   "cell_type": "code",
   "execution_count": null,
   "id": "ee3808cd-1f45-46eb-820c-6626dddb90bf",
   "metadata": {},
   "outputs": [],
   "source": [
    "# Code and syntax for Create a markdown cell to list data science languages is given below"
   ]
  },
  {
   "cell_type": "markdown",
   "id": "119fe04e-b697-4e0f-a4e4-9238fe0cf8eb",
   "metadata": {},
   "source": [
    "* Some of the popular languages that Data Scientists use are:"
   ]
  },
  {
   "cell_type": "markdown",
   "id": "7e2855b5-6f11-4b2f-9cd7-9e74864c0b29",
   "metadata": {},
   "source": [
    "1. Python\n",
    "2. R\n",
    "3. Scala\n",
    "4. Php\n",
    "5. Java Script\n",
    "6. Microsoft Visual Studio\n"
   ]
  },
  {
   "cell_type": "markdown",
   "id": "d2908c2a-78e9-474e-8e1b-f6d949a1d936",
   "metadata": {},
   "source": [
    "<code>Ex-5 - Create a markdown cell to list data science libraries </code>"
   ]
  },
  {
   "cell_type": "markdown",
   "id": "c2a3500f-7a2c-4c87-bfc2-8c6c54788049",
   "metadata": {},
   "source": [
    "<code>Given Sentence -  \"Some of the commonly used libraries used by Data Scientists include:\" </code>"
   ]
  },
  {
   "cell_type": "code",
   "execution_count": null,
   "id": "70816f4c-93ed-4548-a260-670d51839fa9",
   "metadata": {},
   "outputs": [],
   "source": [
    "# Code and syntax for Create a markdown cell to list data science libraries is given below"
   ]
  },
  {
   "cell_type": "markdown",
   "id": "5e187b93-512d-412f-aa4f-11728d658344",
   "metadata": {},
   "source": [
    "* Some of the commonly used libraries used by Data Scientists include:"
   ]
  },
  {
   "cell_type": "code",
   "execution_count": null,
   "id": "3717b2bd-8e0e-48c4-a020-c53045c45f41",
   "metadata": {},
   "outputs": [],
   "source": [
    "# for python"
   ]
  },
  {
   "cell_type": "markdown",
   "id": "7fa44e72-752f-406e-94e7-4ad7425ca6bc",
   "metadata": {},
   "source": [
    "1. Pandas\n",
    "2. numpy\n",
    "3. matplotlib\n"
   ]
  },
  {
   "cell_type": "code",
   "execution_count": null,
   "id": "c15b1f66-c30e-4945-8705-cf6088f23457",
   "metadata": {},
   "outputs": [],
   "source": [
    "# for R"
   ]
  },
  {
   "cell_type": "markdown",
   "id": "da4319f8-5ee5-4e46-b4f7-844b30da48c7",
   "metadata": {},
   "source": [
    "1. ggplot2\n",
    "2. GGally\n",
    "3. lattice"
   ]
  },
  {
   "cell_type": "markdown",
   "id": "526a8b7e-d770-495e-8597-5425a8f11bbf",
   "metadata": {},
   "source": [
    "<code>Ex-6 - Create a markdown cell with a table of Data Science tools </code>"
   ]
  },
  {
   "cell_type": "markdown",
   "id": "51b7b183-105a-4981-842a-b4418f802150",
   "metadata": {},
   "source": [
    "<code> Given Instructions are - ___Create a single column table in this cell with the first row containing the header Data Science Tools. The subsequent three rows in the table should indicate three development environment open source tools used in data science.___ </code>"
   ]
  },
  {
   "cell_type": "code",
   "execution_count": null,
   "id": "667f41ab-6f37-484d-bae0-a0c5daf541fe",
   "metadata": {},
   "outputs": [],
   "source": [
    "# Code and syntax for Create a markdown cell with a table of Data Science tools is given below"
   ]
  },
  {
   "cell_type": "markdown",
   "id": "a262f215-d60e-4a8b-bc1c-786d92f89373",
   "metadata": {},
   "source": [
    "|Data Science Tools|\n",
    "|------------------|\n",
    "|R Studio         |\n",
    "|Github       |\n",
    "|Jupyter Notebook  |\n",
    "|Jupyter Lab |\n",
    "|VS code - Visual studio code |\n"
   ]
  },
  {
   "cell_type": "markdown",
   "id": "a29ef776-c1b8-4f16-9639-a78a9445860d",
   "metadata": {},
   "source": [
    "<code>Exercise 7 - Create a markdown cell introducing arithmetic expression examples</code>"
   ]
  },
  {
   "cell_type": "markdown",
   "id": "5a5273ea-97e8-40a2-af7c-f5ab2e37c944",
   "metadata": {},
   "source": [
    "<code> *_Given Instructions are_* - "
   ]
  },
  {
   "cell_type": "markdown",
   "id": "1fc2a9a4-c710-4afa-9361-ac51f658aaf4",
   "metadata": {},
   "source": [
    "</code> <code> Add a line in this cell with H3 style heading with text like:\n",
    "Below are a few examples of evaluating arithmetic expressions in Python.</code>"
   ]
  },
  {
   "cell_type": "code",
   "execution_count": null,
   "id": "fd8a8232-57de-4209-bb9d-3979e8b71f03",
   "metadata": {},
   "outputs": [],
   "source": [
    "# Code and syntax for Create a markdown cell introducing arithmetic expression examples is given below"
   ]
  },
  {
   "cell_type": "markdown",
   "id": "2dc2b433-2349-4a9c-b572-b0466161a9d8",
   "metadata": {},
   "source": [
    "### Below are a few examples of evaluating arithmetic expressions in Python."
   ]
  },
  {
   "cell_type": "markdown",
   "id": "586f4dc7-c6bb-429d-90f7-0552e6045776",
   "metadata": {},
   "source": [
    "1. ( + ) - Addtion\n",
    "2. ( - ) - Subtraction\n",
    "3. ( * ) - Multiplication\n",
    "4. ( / ) - Divition\n",
    "5. ( % ) - Moduls\n",
    "\n",
    "\n"
   ]
  },
  {
   "cell_type": "markdown",
   "id": "5f6b8a3b-1fc9-4f1d-9289-9214ba132b77",
   "metadata": {},
   "source": [
    "<code>Ex-8 - Create a code cell to multiply and add numbers</code>"
   ]
  },
  {
   "cell_type": "markdown",
   "id": "dd676d3d-9e36-470a-bbaf-59b373d02b7d",
   "metadata": {},
   "source": [
    "<code> *_Given Instructions are_* - "
   ]
  },
  {
   "cell_type": "markdown",
   "id": "51aee9bd-7291-4dda-abbb-fe3e91d96cbe",
   "metadata": {},
   "source": [
    "<code>In this code cell evaluate the expression (3*4)+5.\n",
    "Insert a comment line before the expression to explain the operation e.g. This a simple arithmetic expression to mutiply then add integers.\n",
    "Then execute the cell to ensure the expression returns the expected output of 17. </code>"
   ]
  },
  {
   "cell_type": "code",
   "execution_count": null,
   "id": "7cd3949b-5269-4d00-be0e-f35e92c993a6",
   "metadata": {},
   "outputs": [],
   "source": [
    "# Code and syntax for Create a code cell to multiply and add numbers is given below"
   ]
  },
  {
   "cell_type": "code",
   "execution_count": null,
   "id": "ded26b2b-800b-4562-96a0-3c0250ab7251",
   "metadata": {},
   "outputs": [],
   "source": [
    "# This a simple arithmetic expression to mutiply then add integers. \n",
    "# Then execute the cell to ensure the expression returns the expected output of 17."
   ]
  },
  {
   "cell_type": "code",
   "execution_count": 7,
   "id": "98351a47-94d1-4005-94ba-07b6178b79e9",
   "metadata": {},
   "outputs": [
    {
     "data": {
      "text/plain": [
       "17"
      ]
     },
     "execution_count": 7,
     "metadata": {},
     "output_type": "execute_result"
    }
   ],
   "source": [
    "( 3 * 4 ) + 5 "
   ]
  },
  {
   "cell_type": "markdown",
   "id": "d1c8f383-e5ae-4a3a-99cd-b53a4f391a62",
   "metadata": {},
   "source": [
    "<code>Ex-9 - Create a code cell to convert minutes to hours</code>"
   ]
  },
  {
   "cell_type": "markdown",
   "id": "dcdd6417-72b8-4738-b9a0-54d49e4fa424",
   "metadata": {},
   "source": [
    "<code> *_Given Instructions are_* - "
   ]
  },
  {
   "cell_type": "markdown",
   "id": "be2347bf-2bdf-4004-ade9-268ee36b8eb9",
   "metadata": {},
   "source": [
    "<code>In this code cell write an expression that converts 200 minutes into hours.\n",
    "Insert a comment line before the expression to explain the operation e.g. This will convert 200 minutes to hours by diving by 60.\n",
    "Run the cell to evaluate the expression. </code>"
   ]
  },
  {
   "cell_type": "code",
   "execution_count": null,
   "id": "fb948c53-e2c1-49f4-aa34-f193501b55fc",
   "metadata": {},
   "outputs": [],
   "source": [
    "# Code and syntax for Create a code cell to convert minutes to hours is given below"
   ]
  },
  {
   "cell_type": "code",
   "execution_count": null,
   "id": "27901691-3e90-4897-b535-1e9460ca311a",
   "metadata": {},
   "outputs": [],
   "source": [
    "# This will convert 200 minutes to hours by diving by 60."
   ]
  },
  {
   "cell_type": "code",
   "execution_count": 10,
   "id": "e8a6af43-9805-4600-bbf6-203dd1ed439d",
   "metadata": {},
   "outputs": [
    {
     "data": {
      "text/plain": [
       "3.3333333333333335"
      ]
     },
     "execution_count": 10,
     "metadata": {},
     "output_type": "execute_result"
    }
   ],
   "source": [
    "200/60 "
   ]
  },
  {
   "cell_type": "code",
   "execution_count": null,
   "id": "1aa2c6f9-a477-441c-9074-937dbcdf312a",
   "metadata": {},
   "outputs": [],
   "source": [
    "# 3.3335 Hours "
   ]
  },
  {
   "cell_type": "code",
   "execution_count": 12,
   "id": "1642a0c7-aa91-4291-9f6f-785f8a773581",
   "metadata": {},
   "outputs": [
    {
     "data": {
      "text/plain": [
       "20.000000000000007"
      ]
     },
     "execution_count": 12,
     "metadata": {},
     "output_type": "execute_result"
    }
   ],
   "source": [
    "0.3333333333333335 * 60 "
   ]
  },
  {
   "cell_type": "code",
   "execution_count": null,
   "id": "bd750c05-938b-4343-9323-9fddb9ea09da",
   "metadata": {},
   "outputs": [],
   "source": [
    "# 0.3335 hours multiply by 60 minutes "
   ]
  },
  {
   "cell_type": "code",
   "execution_count": null,
   "id": "7d60e7b6-5296-4d9a-be90-4b664223c9bd",
   "metadata": {},
   "outputs": [],
   "source": [
    "# 3 hours and 20 minutes Approx"
   ]
  },
  {
   "cell_type": "markdown",
   "id": "8e7ef99c-ca8b-4d40-91b5-8d0f53cf13e0",
   "metadata": {},
   "source": [
    "<code>Ex-10 - Insert a markdown cell to list Objectives</code>"
   ]
  },
  {
   "cell_type": "markdown",
   "id": "3d61ed4b-b315-4ea1-888a-b2bcf0e85b99",
   "metadata": {},
   "source": [
    "<code> *_Given Instructions are_* - "
   ]
  },
  {
   "cell_type": "markdown",
   "id": "1dc8dde5-ab76-4dd7-9138-4be72aa0f691",
   "metadata": {},
   "source": [
    "<code>insert a new markdown cell to list the objectives that this notebook covered (i.e. some of the key takeaways from the course). In this new cell start with an introductory line titled: Objectives: in bold font. Then using an unordered list (bullets) indicate 3 to 5 items covered in this notebook, such as List popular languages for Data Science.</code>"
   ]
  },
  {
   "cell_type": "code",
   "execution_count": null,
   "id": "31ecb6a9-1c31-4878-b9e5-21dd37f1c92f",
   "metadata": {},
   "outputs": [],
   "source": [
    "# Code and syntax for Insert a markdown cell to list Objectives is given below"
   ]
  },
  {
   "cell_type": "markdown",
   "id": "274ba707-8cc2-452f-87b4-0e2a6026ee98",
   "metadata": {},
   "source": [
    "**Objectives:**"
   ]
  },
  {
   "cell_type": "markdown",
   "id": "fe5b0a0a-ee9c-40be-a4a6-33c99ff2b070",
   "metadata": {},
   "source": [
    "* Make Predictions using Powerfool software\n",
    "* Make Automate Decision makeing algorithms\n",
    "* Clean and Divide the Structure and Un-Structure Data"
   ]
  },
  {
   "cell_type": "markdown",
   "id": "3f36602e-c02a-41ed-b0d2-4116e48a0846",
   "metadata": {},
   "source": [
    "<code>Ex-11 - Create a markdown cell to indicate the Author's name</code>"
   ]
  },
  {
   "cell_type": "markdown",
   "id": "c2a0274a-baa8-4ded-a93d-e7c0bca5ab94",
   "metadata": {},
   "source": [
    "<code> *_Given Instructions are_* - "
   ]
  },
  {
   "cell_type": "markdown",
   "id": "c42259e6-9f89-45f8-be7f-6853c2f69566",
   "metadata": {},
   "source": [
    "<code>In this markdown cell markdown cell include the following text Author in H2 style heading. Include your name as regular text below the word Author.</code>"
   ]
  },
  {
   "cell_type": "code",
   "execution_count": null,
   "id": "6bd288f9-821a-42dc-971f-63dce9d6746b",
   "metadata": {},
   "outputs": [],
   "source": [
    "# Code and syntax for Create a markdown cell to indicate the Author's name is given below"
   ]
  },
  {
   "cell_type": "markdown",
   "id": "d10f8564-1e1d-408f-b1de-802a0a47b31f",
   "metadata": {},
   "source": [
    "## Author "
   ]
  },
  {
   "cell_type": "markdown",
   "id": "cb9fbb9f-9f5c-470a-af8a-5b6b9859ca57",
   "metadata": {},
   "source": [
    "Omdevsinh Gohil"
   ]
  },
  {
   "cell_type": "code",
   "execution_count": null,
   "id": "699a0efe-bacc-4400-ab8d-9d921459300e",
   "metadata": {},
   "outputs": [],
   "source": []
  }
 ],
 "metadata": {
  "kernelspec": {
   "display_name": "Python 3 (ipykernel)",
   "language": "python",
   "name": "python3"
  },
  "language_info": {
   "codemirror_mode": {
    "name": "ipython",
    "version": 3
   },
   "file_extension": ".py",
   "mimetype": "text/x-python",
   "name": "python",
   "nbconvert_exporter": "python",
   "pygments_lexer": "ipython3",
   "version": "3.13.3"
  }
 },
 "nbformat": 4,
 "nbformat_minor": 5
}
